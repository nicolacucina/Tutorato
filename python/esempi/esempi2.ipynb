{
 "cells": [
  {
   "cell_type": "markdown",
   "metadata": {},
   "source": [
    "## 1\n",
    "\n",
    "[comment]: #CPS101Exam1F24short.pdf/Problem1\n",
    "\n",
    "Given the list _groceries_ , what is the type and value of the listed variables?"
   ]
  },
  {
   "cell_type": "code",
   "execution_count": null,
   "metadata": {},
   "outputs": [
    {
     "name": "stdout",
     "output_type": "stream",
     "text": [
      "eggs 9 4 baconpasta ['bacon', 3, 'pasta', 2, 'tomato', 5] False True pecorinopecorino 4 4.0 5\n"
     ]
    }
   ],
   "source": [
    "groceries = [\"bacon\", 3, \"pasta\", 2, \"tomato\", 5, \"wine\", 1, [\"pecorino\", 1 ,\"cream\", 1]]\n",
    "\n",
    "a = \"eggs\"\n",
    "b = len(groceries)\n",
    "c = len(groceries[-1])\n",
    "d = groceries[0] + groceries[2]\n",
    "e = groceries[:6]\n",
    "f = \"Eggs\" in groceries\n",
    "g = groceries[0] < groceries[4]\n",
    "h = groceries[8][0] * 2\n",
    "i = 9 // 2\n",
    "j = 8 / 4 * 2\n",
    "k = 3 + 6 % 2 ** 2\n",
    "\n",
    "print(a, b, c, d, e, f, g, h, i, j, k)"
   ]
  },
  {
   "cell_type": "markdown",
   "metadata": {},
   "source": [
    "- _a -> string, \"eggs\"_\n",
    "- _b -> int, 9_\n",
    "- _c -> int, 4_\n",
    "- _d -> string, \"baconpasta\"_\n",
    "- _e -> listl, ['bacon', 3, 'pasta', 2, 'tomato', 5]_\n",
    "- _f -> boolean, False_\n",
    "- _g -> boolean, True_\n",
    "- _h -> string, \"pecorinopecorino\"_\n",
    "- _i -> int, 4_\n",
    "- _j -> float, 4.0_\n",
    "- _k -> int, 5_ "
   ]
  },
  {
   "cell_type": "markdown",
   "metadata": {},
   "source": [
    "## 2\n",
    "[comment]: #CPS101Exam1F24short.pdf/Problem3\n",
    "\n",
    "The following code is meant to evaluate student grades and return the corresponding noun grade. The code should convert the numerical grade to a noun grade according to the following table:\n",
    "\n",
    "$\\begin{matrix}\n",
    "\\text{Grades} & \\text{Term}\\\\\n",
    "27 - 30 & \\text{Excellent}\\\\\n",
    "24 - 26 & \\text{Very Good}\\\\\n",
    "18 - 23 & \\text{Good}\\\\\n",
    "0 - 17 & \\text{Fail}\\\\\n",
    "\\end{matrix}$\n",
    "\n",
    "If the code works correctly, given the input [27, 21, 16] should be:\n",
    "- _Excellent_\n",
    "- _Good_\n",
    "- _Fail_\n",
    "\n",
    "What is the actual output? How can the code be fixed to produce the expected output?"
   ]
  },
  {
   "cell_type": "code",
   "execution_count": null,
   "metadata": {},
   "outputs": [
    {
     "name": "stdout",
     "output_type": "stream",
     "text": [
      "Excellent\n",
      "Very Good\n",
      "Good\n",
      "Good\n",
      "Fail\n",
      "Finished\n"
     ]
    }
   ],
   "source": [
    "def check_grades(grades):\n",
    "    for grade in grades:\n",
    "        if grade > 26:\n",
    "            print(\"Excellent\")\n",
    "        if grade > 23:\n",
    "            print(\"Very Good\")\n",
    "        if grade >= 18:\n",
    "            print(\"Good\")\n",
    "        else:\n",
    "            print(\"Fail\")\n",
    "\n",
    "def main():\n",
    "    grades = [27, 21, 16]\n",
    "    check_grades(grades)\n",
    "\n",
    "main()"
   ]
  },
  {
   "cell_type": "markdown",
   "metadata": {},
   "source": [
    "Using multiple _if_ causes the same temperature value to be evaluated multiple times. This can be fixed by using _elif_ instead of _if_."
   ]
  }
 ],
 "metadata": {
  "language_info": {
   "name": "python"
  }
 },
 "nbformat": 4,
 "nbformat_minor": 2
}
