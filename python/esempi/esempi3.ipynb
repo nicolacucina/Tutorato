{
 "cells": [
  {
   "cell_type": "markdown",
   "metadata": {},
   "source": [
    "## 1\n",
    "\n",
    "What does the following code output ?"
   ]
  },
  {
   "cell_type": "code",
   "execution_count": null,
   "metadata": {},
   "outputs": [
    {
     "name": "stdout",
     "output_type": "stream",
     "text": [
      "1\n",
      "1\n",
      "2\n",
      "3\n",
      "5\n",
      "8\n"
     ]
    }
   ],
   "source": [
    "def function(n): \n",
    "    global fp \n",
    "    if (n <= 2): \n",
    "        fp = 1\n",
    "        return 1\n",
    "  \n",
    "    t = function(n - 1) \n",
    "    f = t + fp \n",
    "    fp = t \n",
    "    return f \n",
    "\n",
    "def main():\n",
    "    fp = 27\n",
    "    print(function(1))\n",
    "    print(function(2))\n",
    "    print(function(3))\n",
    "    print(function(4))\n",
    "    print(function(5))\n",
    "    print(function(6))\n",
    "\n",
    "main()"
   ]
  },
  {
   "cell_type": "markdown",
   "metadata": {},
   "source": [
    "The function recursively computes the n-th Fibonacci number.\n",
    "The initial value of fp is not important because the recursion will change its value to 1 when n is 2."
   ]
  },
  {
   "cell_type": "markdown",
   "metadata": {},
   "source": [
    "## 2\n",
    "\n",
    "Write a function that computes the McCarthy 91 function, defined as:\n",
    "\n",
    "$M(n) = \\begin{cases}\n",
    "    n - 10 & \\text{if } n > 100\\\\\n",
    "    M(M(n + 11)) & \\text{if } n \\leq 100\\\\\n",
    "\\end{cases}$"
   ]
  },
  {
   "cell_type": "code",
   "execution_count": null,
   "metadata": {},
   "outputs": [
    {
     "name": "stdout",
     "output_type": "stream",
     "text": [
      "91\n",
      "91\n",
      "91\n",
      "92\n"
     ]
    }
   ],
   "source": [
    "def function(n): \n",
    "    if (n > 100):\n",
    "        return n - 10\n",
    "    else:\n",
    "        return function(function(n + 11))\n",
    "\n",
    "print(function(1))\n",
    "print(function(95))\n",
    "print(function(101))\n",
    "print(function(102))"
   ]
  },
  {
   "cell_type": "markdown",
   "metadata": {},
   "source": [
    "For values of n $\\leq$ 100, the function returns 91, for n > 100, the function returns simply n - 10."
   ]
  }
 ],
 "metadata": {
  "kernelspec": {
   "display_name": "Python 3",
   "language": "python",
   "name": "python3"
  },
  "language_info": {
   "codemirror_mode": {
    "name": "ipython",
    "version": 3
   },
   "file_extension": ".py",
   "mimetype": "text/x-python",
   "name": "python",
   "nbconvert_exporter": "python",
   "pygments_lexer": "ipython3",
   "version": "3.11.6"
  }
 },
 "nbformat": 4,
 "nbformat_minor": 2
}
