{
 "cells": [
  {
   "cell_type": "markdown",
   "metadata": {},
   "source": [
    "## 1.a\n",
    "\n",
    "In economics, the _percentage rate of inflation_ for a period of time is calculated based on the final value F of a commodity and the initial value I of the commodity, using the formula ((F − I)/I) × 100. \n",
    "\n",
    "Write a Python function _inflation\\_rate(initial, final)_ to compute and return the inflation rate given the initial and final values of a commodity"
   ]
  },
  {
   "cell_type": "code",
   "execution_count": null,
   "metadata": {},
   "outputs": [],
   "source": [
    "def inflation_rate(initial,final):\n",
    "    inflation = ((final - initial)/ initial) * 100\n",
    "    return inflation"
   ]
  },
  {
   "cell_type": "markdown",
   "metadata": {},
   "source": [
    "## 1.b\n",
    "\n",
    "Using the function _inflation\\_rate_ defined above, write a Python function _average\\_inflation\\_rate()_, that computes and returns the average rate of inflation for the 3-year period represented in the table below:\n",
    "\n",
    "$\\begin{matrix}\n",
    "\\text{Year} & \\text{Initial value} & \\text{Final value} \\\\\n",
    "1 & 23.50 & 24.00 \\\\\n",
    "2 & 24.00 & 24.25 \\\\\n",
    "3 & 24.25 & 24.38 \\\\\n",
    "\\end{matrix}$"
   ]
  },
  {
   "cell_type": "code",
   "execution_count": null,
   "metadata": {},
   "outputs": [],
   "source": [
    "def average_inflation_rate():\n",
    "    year1 = inflation_rate(23.50,24.00)\n",
    "    year2 = inflation_rate(24.00,24.25)\n",
    "    year3 = inflation_rate(24.25,24.38)\n",
    "    return (year1 + year2 + year3)/3"
   ]
  }
 ],
 "metadata": {
  "language_info": {
   "name": "python"
  }
 },
 "nbformat": 4,
 "nbformat_minor": 2
}
