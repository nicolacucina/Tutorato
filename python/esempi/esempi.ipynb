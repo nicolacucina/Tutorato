{
 "cells": [
  {
   "cell_type": "markdown",
   "metadata": {},
   "source": [
    "## 1\n",
    "\n",
    "Find the potential problems with the code and fix them.\n",
    "\n",
    "The following program prints the least common multiple of two numbers."
   ]
  },
  {
   "cell_type": "code",
   "execution_count": null,
   "metadata": {},
   "outputs": [],
   "source": [
    "try:\n",
    "    n = int(input(\"Enter a number: \"))\n",
    "except ValueError:\n",
    "    print(\"Invalid input\")\n",
    "\n",
    "try:\n",
    "    m = input(\"Enter another number: \")\n",
    "except ValueError:\n",
    "    print(\"Invalid input\")\n",
    "    \n",
    "l = 0\n",
    "\n",
    "for i in range(n*m):\n",
    "    if i % n == 0 or i % m == 0:\n",
    "        l = i\n",
    "\n",
    "print(l)"
   ]
  },
  {
   "cell_type": "markdown",
   "metadata": {},
   "source": [
    "- lines 7 is missing the cast to _int_\n",
    "- line 14 the _or_ needs to be replaced with _and_\n",
    "- line 16 is missing a _break_ statement"
   ]
  },
  {
   "cell_type": "markdown",
   "metadata": {},
   "source": [
    "## 2\n",
    "\n",
    "What type of data is _a_?"
   ]
  },
  {
   "cell_type": "code",
   "execution_count": null,
   "metadata": {},
   "outputs": [],
   "source": [
    "a = str((-4 + abs(-5) / 2 ** 3) + 321 - ((64 / 16) % 4) ** 2)\n",
    "print(type(a))"
   ]
  },
  {
   "cell_type": "markdown",
   "metadata": {},
   "source": [
    "_string_"
   ]
  },
  {
   "cell_type": "markdown",
   "metadata": {},
   "source": [
    "## 3\n",
    "\n",
    "In Chess, the bishop is a piece that moves diagonally any number of squares. Given the initial position of a bishop on the chessboard, write a function that returns the number of possible moves the bishop can perform.\n",
    "\n",
    "The chessboard is an 8x8 matrix, where the bishop is represented by the letter B and empty squares are represented by the number 0.\n",
    "\n",
    "An example of the bishop's moves is shown in the image below:\n",
    "\n",
    "A)\n",
    "$\\begin{matrix}\n",
    "0 & 0 & 0 & 0 & 0 & 0 & 0 & 0 \\\\\n",
    "0 & 0 & 0 & 0 & 0 & 0 & 0 & X \\\\\n",
    "0 & 0 & 0 & 0 & 0 & 0 & X & 0 \\\\\n",
    "0 & 0 & 0 & 0 & 0 & X & 0 & 0 \\\\\n",
    "X & 0 & 0 & 0 & X & 0 & 0 & 0 \\\\\n",
    "0 & X & 0 & X & 0 & 0 & 0 & 0 \\\\\n",
    "0 & 0 & B & 0 & 0 & 0 & 0 & 0 \\\\\n",
    "0 & X & 0 & X & 0 & 0 & 0 & 0 \\\\\n",
    "\\end{matrix}$\n",
    "\n",
    "B)\n",
    "$\\begin{matrix}\n",
    "0 & 0 & X & 0 & 0 & 0 & 0 & 0 \\\\\n",
    "0 & 0 & 0 & X & 0 & 0 & 0 & X \\\\\n",
    "0 & 0 & 0 & 0 & X & 0 & X & 0 \\\\\n",
    "0 & 0 & 0 & 0 & 0 & B & 0 & 0 \\\\\n",
    "0 & 0 & 0 & 0 & X & 0 & X & 0 \\\\\n",
    "0 & 0 & 0 & X & 0 & 0 & 0 & X \\\\\n",
    "0 & 0 & X & 0 & 0 & 0 & 0 & 0 \\\\\n",
    "0 & X & 0 & 0 & 0 & 0 & 0 & 0 \\\\\n",
    "\\end{matrix}$\n",
    "\n",
    "B is the bishop's initial position. In the example, using matrix indices, we have:\n",
    "- _B_ in row 6 and column 2 \n",
    "- _B_ in row 3 and column 5\n",
    "\n",
    "X are the possible moves. In the example we have:\n",
    "- A) 9 possible moves \n",
    "- B) 11 possible moves."
   ]
  },
  {
   "cell_type": "code",
   "execution_count": null,
   "metadata": {},
   "outputs": [
    {
     "name": "stdout",
     "output_type": "stream",
     "text": [
      "9\n",
      "11\n"
     ]
    }
   ],
   "source": [
    "def count_moves(x, y, chessboard):\n",
    "    counter = 0\n",
    "    \n",
    "    i = 1\n",
    "    while(x + i < 8 and y + i < 8):\n",
    "        counter += 1    \n",
    "        i += 1\n",
    "    \n",
    "    i = 1\n",
    "    while(x - i >= 0 and y - i >= 0):\n",
    "        counter += 1    \n",
    "        i += 1\n",
    "\n",
    "    i = 1\n",
    "    while(x + i < 8 and y - i >= 0):\n",
    "        counter += 1    \n",
    "        i += 1\n",
    "\n",
    "    i = 1\n",
    "    while(x - i >= 0 and y + i < 8):\n",
    "        counter += 1    \n",
    "        i += 1\n",
    "\n",
    "    \n",
    "    return counter\n",
    "\n",
    "def main():\n",
    "    chessboard = [\n",
    "        [0, 0, 0, 0, 0, 0, 0, 0],\n",
    "        [0, 0, 0, 0, 0, 0, 0, 0],\n",
    "        [0, 0, 0, 0, 0, 0, 0, 0],\n",
    "        [0, 0, 0, 0, 0, 0, 0, 0],\n",
    "        [0, 0, 0, 0, 0, 0, 0, 0],\n",
    "        [0, 0, 0, 0, 0, 0, 0, 0],\n",
    "        [0, 0, 0, 0, 0, 0, 0, 0],\n",
    "        [0, 0, 0, 0, 0, 0, 0, 0]\n",
    "    ]\n",
    "    print(count_moves(6, 2, chessboard))\n",
    "    print(count_moves(3, 5, chessboard))\n",
    "\n",
    "main()\n"
   ]
  },
  {
   "cell_type": "markdown",
   "metadata": {},
   "source": [
    "## 4\n",
    "\n",
    "An interval can be represented as a list of two elements: \n",
    "- a $\\in \\mathbb{R}$, the start of the interval\n",
    "- b $\\in \\mathbb{R}$, the end of the interval, with $a < b$\n",
    "\n",
    "Write a function that, given two different intervals, determines if they overlap."
   ]
  },
  {
   "cell_type": "code",
   "execution_count": 11,
   "metadata": {},
   "outputs": [
    {
     "name": "stdout",
     "output_type": "stream",
     "text": [
      "True\n",
      "True\n",
      "False\n",
      "True\n",
      "True\n",
      "False\n",
      "True\n",
      "False\n"
     ]
    }
   ],
   "source": [
    "def overlap(interval1, interval2):\n",
    "    sovrapposto = False\n",
    "    if interval1[0] <= interval2[0] and interval1[1] >= interval2[0]:\n",
    "        \"\"\"\n",
    "        i_1 __________\n",
    "            |   _____|_____ i_2\n",
    "            |   |    |    |\n",
    "            |   |    |    |\n",
    "            a   a    b    b\n",
    "        \"\"\"\n",
    "        sovrapposto = True\n",
    "    elif interval2[0] <= interval1[0] and interval2[1] >= interval1[0]:\n",
    "        \"\"\"\n",
    "        i_2 __________\n",
    "            |   _____|_____ i_1\n",
    "            |   |    |    |\n",
    "            |   |    |    |\n",
    "            a   a    b    b\n",
    "        \"\"\"\n",
    "        sovrapposto = True\n",
    "    elif interval1[0] <= interval2[0] and interval1[1] >= interval2[1]:\n",
    "        \"\"\"\n",
    "        i_1 _____________________\n",
    "            |   __________ i_2  |\n",
    "            |   |        |      |\n",
    "            |   |        |      |\n",
    "            a   a        b       b\n",
    "        \"\"\"\n",
    "        sovrapposto = True\n",
    "    elif interval2[0] <= interval1[0] and interval2[1] >= interval1[1]:\n",
    "        \"\"\"\n",
    "        i_2 _____________________\n",
    "            |   __________ i_1  |\n",
    "            |   |        |      |\n",
    "            |   |        |      |\n",
    "            a   a        b       b\n",
    "        \"\"\"\n",
    "        sovrapposto = True\n",
    "\n",
    "    return sovrapposto\n",
    "\n",
    "def main():\n",
    "    print(overlap((1, 3), (2, 4)))\n",
    "    print(overlap((1, 3), (3, 4)))\n",
    "    print(overlap((1, 3), (4, 5)))\n",
    "    print(overlap((1, 3), (0, 2)))\n",
    "    print(overlap((1, 3), (0, 1)))\n",
    "    print(overlap((1, 3), (0, 0)))\n",
    "    print(overlap((1, 3), (3, 3)))\n",
    "    print(overlap((1, 3), (4, 4)))\n",
    "\n",
    "main()"
   ]
  }
 ],
 "metadata": {
  "kernelspec": {
   "display_name": "Python 3",
   "language": "python",
   "name": "python3"
  },
  "language_info": {
   "codemirror_mode": {
    "name": "ipython",
    "version": 3
   },
   "file_extension": ".py",
   "mimetype": "text/x-python",
   "name": "python",
   "nbconvert_exporter": "python",
   "pygments_lexer": "ipython3",
   "version": "3.11.6"
  }
 },
 "nbformat": 4,
 "nbformat_minor": 2
}
