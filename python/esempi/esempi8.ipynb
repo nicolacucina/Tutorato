{
 "cells": [
  {
   "cell_type": "markdown",
   "metadata": {},
   "source": [
    "Write a function named _roll\\_dices(dice, number\\_of\\_dices, number\\_of\\_rolls)_ that takes three parameters:\n",
    "- _dice_ is a integer representing the number of sides the dice.\n",
    "- _number\\_of\\_dices_ is an integer representing the number of dices to roll.\n",
    "- _number\\_of\\_rolls_ is an integer representing the number of times to roll the dices.\n",
    "\n",
    "The function should return a list of integers representing: \n",
    "- the sum of all the rolls of all the dices.\n",
    "- the highest roll of the dices.\n",
    "- the average of all the rolls of all the dices.\n",
    "\n",
    "Here are some example of the outputs:\n",
    "\n",
    "$\\begin{matrix}\n",
    "\\text{roll\\_dices(6, 1, 1)} & [4, 4, 4.0] \\\\\n",
    "\\text{roll\\_dices(6, 2, 3)} & [21, 6, 3.5] \\\\\n",
    "\\text{roll\\_dices(4, 2, 2)} & [9, 4, 2.25] \\\\\n",
    "\\text{roll\\_dices(12, 3, 5)} & [106, 12, 7.066666666666666] \\\\\n",
    "\\end{matrix}$"
   ]
  },
  {
   "cell_type": "code",
   "execution_count": 4,
   "metadata": {},
   "outputs": [
    {
     "name": "stdout",
     "output_type": "stream",
     "text": [
      "4\n",
      "4\n",
      "4.0\n",
      "[4, 4, 4.0]\n",
      "21\n",
      "6\n",
      "3.5\n",
      "[21, 6, 3.5]\n",
      "9\n",
      "4\n",
      "2.25\n",
      "[9, 4, 2.25]\n",
      "106\n",
      "12\n",
      "7.066666666666666\n",
      "[106, 12, 7.066666666666666]\n"
     ]
    }
   ],
   "source": [
    "import random\n",
    "\n",
    "def roll_dices(dice, number_of_dices, number_of_rolls):\n",
    "    result = []\n",
    "    highest_roll = 0\n",
    "    roll_sum = 0\n",
    "    average_roll = 0\n",
    "    for i in range(number_of_rolls):\n",
    "        for j in range(number_of_dices):\n",
    "            n = random.randint(1,dice)\n",
    "            roll_sum += n\n",
    "            if n > highest_roll:\n",
    "                highest_roll = n\n",
    "    average_roll = roll_sum / (number_of_dices*number_of_rolls)\n",
    "    print(roll_sum)\n",
    "    print(highest_roll)\n",
    "    print(average_roll)\n",
    "    result.append(roll_sum)\n",
    "    result.append(highest_roll)\n",
    "    result.append(average_roll)\n",
    "    return result\n",
    "\n",
    "def main():\n",
    "    print(roll_dices(6,1,1))\n",
    "    print(roll_dices(6,2,3))\n",
    "    print(roll_dices(4,2,2))\n",
    "    print(roll_dices(12,3,5))\n",
    "\n",
    "main()"
   ]
  }
 ],
 "metadata": {
  "kernelspec": {
   "display_name": "Python 3",
   "language": "python",
   "name": "python3"
  },
  "language_info": {
   "codemirror_mode": {
    "name": "ipython",
    "version": 3
   },
   "file_extension": ".py",
   "mimetype": "text/x-python",
   "name": "python",
   "nbconvert_exporter": "python",
   "pygments_lexer": "ipython3",
   "version": "3.11.6"
  }
 },
 "nbformat": 4,
 "nbformat_minor": 2
}
