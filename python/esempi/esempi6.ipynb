{
 "cells": [
  {
   "cell_type": "markdown",
   "metadata": {},
   "source": [
    "Write the function named _classify()_ that takes no parameters. \n",
    "Generate a random integer between 1 and 100 (exclusive) and return a string based on the following conditions:\n",
    "- \"Type 1\" if the number is strictly less than 15 or strictly greater than 71.\n",
    "- \"Type 2\" if the number is between 15 and 71 (inclusive).\n",
    "- \"Type 0\" for any other conditions.\n",
    "\n",
    "Here are reported the expected return values for some generated integers:\n",
    "\n",
    "$\\begin{matrix}\n",
    "\\text{Integer Generated} & \\text{Expected Return Value} \\\\\n",
    "1 & \\text{Type 1} \\\\\n",
    "22 & \\text{Type 2} \\\\\n",
    "90 & \\text{Type 1} \\\\\n",
    "95 & \\text{Type 0} \\\\\n",
    "\\end{matrix}$"
   ]
  },
  {
   "cell_type": "code",
   "execution_count": null,
   "metadata": {},
   "outputs": [],
   "source": [
    "import random\n",
    "\n",
    "def classify():\n",
    "    num = random.randint(1,100)\n",
    "    if num < 15 or num > 71:\n",
    "        return \"Type 1\"\n",
    "    elif num >= 15 and num <= 71:\n",
    "        return \"Type 2\"\n",
    "    else:\n",
    "        return \"Type 0\""
   ]
  }
 ],
 "metadata": {
  "language_info": {
   "name": "python"
  }
 },
 "nbformat": 4,
 "nbformat_minor": 2
}
