{
 "cells": [
  {
   "cell_type": "markdown",
   "metadata": {},
   "source": [
    "## 1\n",
    "[comment]: #Problem_4:\n",
    "\n",
    "What value can we assign to _x_ to find the following outputs?\n",
    "- _1_ _2_\n",
    "- _1_\n",
    "- _2_\n",
    "- _3_\n",
    "- _test_"
   ]
  },
  {
   "cell_type": "code",
   "execution_count": null,
   "metadata": {},
   "outputs": [],
   "source": [
    "x = \n",
    "\n",
    "if x > 7 and x % 5 = 3:\n",
    "    print \"1\"\n",
    "elif x > 11 and x < 26:\n",
    "    print \"2\"\n",
    "else:\n",
    "    print \"3\""
   ]
  },
  {
   "cell_type": "markdown",
   "metadata": {},
   "source": [
    "- _None_\n",
    "- _x_ = _8_, _13_, _18_, _27_, ...\n",
    "- _x_ = [_12_, _14_, _15_, ..., _26_], _x_ $\\neq$ _13_, _18_, _23_\n",
    "- _x_ = _any other value_\n",
    "- _None_"
   ]
  },
  {
   "cell_type": "markdown",
   "metadata": {},
   "source": [
    "## 2\n",
    "[comment]: #240957e6932e85344f5894f3a9e8040a_exam1_soln/Problem_11\n",
    "\n",
    "What is the output of the following code?"
   ]
  },
  {
   "cell_type": "code",
   "execution_count": null,
   "metadata": {},
   "outputs": [
    {
     "name": "stdout",
     "output_type": "stream",
     "text": [
      "X\n",
      "X\n",
      "X\n",
      "X\n",
      "10\n"
     ]
    }
   ],
   "source": [
    "def function(x): \n",
    "    print(\"X\") \n",
    "    if x == 0: \n",
    "        return 0\n",
    "    else: \n",
    "        y = x-1\n",
    "        z = function(y)\n",
    "        return x+z\n",
    "\n",
    "def main():\n",
    "    x = 4\n",
    "    print(f(x))\n",
    "\n",
    "main()"
   ]
  },
  {
   "cell_type": "markdown",
   "metadata": {},
   "source": [
    "The function returns the sum of the first $N$ numbers."
   ]
  }
 ],
 "metadata": {
  "language_info": {
   "name": "python"
  }
 },
 "nbformat": 4,
 "nbformat_minor": 2
}
